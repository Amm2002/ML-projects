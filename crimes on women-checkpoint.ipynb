{
 "cells": [
  {
   "cell_type": "code",
   "execution_count": 94,
   "id": "f5339f1f-ee04-4d56-826a-60e8c0e4a4e4",
   "metadata": {},
   "outputs": [],
   "source": [
    "import pandas as pd\n",
    "import numpy as np\n",
    "import seaborn as sns\n",
    "import matplotlib.pyplot as plt\n",
    "from sklearn.model_selection import train_test_split \n",
    "from sklearn.linear_model import SGDRegressor\n",
    "from sklearn.preprocessing import StandardScaler \n",
    "from sklearn.metrics import mean_squared_error\n",
    "from sklearn.linear_model import LinearRegression\n",
    "from sklearn.tree import DecisionTreeRegressor\n",
    "from sklearn.metrics import mean_squared_error, r2_score\n",
    "import matplotlib.pyplot as plt\n",
    "from warnings import filterwarnings\n",
    "filterwarnings('ignore')"
   ]
  },
  {
   "cell_type": "code",
   "execution_count": null,
   "id": "be3a3181-2b10-484b-bc17-3302dc8802d3",
   "metadata": {},
   "outputs": [],
   "source": [
    "# problem stament is crime on women dataset LR model to predict the total no.of rapes in a year(2001-2021) and state(India) based on other types of crimes against women\n",
    "# dependent var = Rape\n",
    "# independent var = k&a,dd,aow,aom,dv,wt\n",
    "# Goal: To understand how different forms of crimes against women (like domestic violence, dowry deaths, and others) can influence the number of rapes in a given year across different states."
   ]
  },
  {
   "cell_type": "code",
   "execution_count": 5,
   "id": "fcc28ec4-9f9c-4185-8adc-8d355e94b471",
   "metadata": {},
   "outputs": [
    {
     "data": {
      "text/html": [
       "<div>\n",
       "<style scoped>\n",
       "    .dataframe tbody tr th:only-of-type {\n",
       "        vertical-align: middle;\n",
       "    }\n",
       "\n",
       "    .dataframe tbody tr th {\n",
       "        vertical-align: top;\n",
       "    }\n",
       "\n",
       "    .dataframe thead th {\n",
       "        text-align: right;\n",
       "    }\n",
       "</style>\n",
       "<table border=\"1\" class=\"dataframe\">\n",
       "  <thead>\n",
       "    <tr style=\"text-align: right;\">\n",
       "      <th></th>\n",
       "      <th>Unnamed: 0</th>\n",
       "      <th>State</th>\n",
       "      <th>Year</th>\n",
       "      <th>Rape</th>\n",
       "      <th>K&amp;A</th>\n",
       "      <th>DD</th>\n",
       "      <th>AoW</th>\n",
       "      <th>AoM</th>\n",
       "      <th>DV</th>\n",
       "      <th>WT</th>\n",
       "    </tr>\n",
       "  </thead>\n",
       "  <tbody>\n",
       "    <tr>\n",
       "      <th>0</th>\n",
       "      <td>0</td>\n",
       "      <td>ANDHRA PRADESH</td>\n",
       "      <td>2001</td>\n",
       "      <td>871</td>\n",
       "      <td>765</td>\n",
       "      <td>420</td>\n",
       "      <td>3544</td>\n",
       "      <td>2271</td>\n",
       "      <td>5791</td>\n",
       "      <td>7</td>\n",
       "    </tr>\n",
       "    <tr>\n",
       "      <th>1</th>\n",
       "      <td>1</td>\n",
       "      <td>ARUNACHAL PRADESH</td>\n",
       "      <td>2001</td>\n",
       "      <td>33</td>\n",
       "      <td>55</td>\n",
       "      <td>0</td>\n",
       "      <td>78</td>\n",
       "      <td>3</td>\n",
       "      <td>11</td>\n",
       "      <td>0</td>\n",
       "    </tr>\n",
       "    <tr>\n",
       "      <th>2</th>\n",
       "      <td>2</td>\n",
       "      <td>ASSAM</td>\n",
       "      <td>2001</td>\n",
       "      <td>817</td>\n",
       "      <td>1070</td>\n",
       "      <td>59</td>\n",
       "      <td>850</td>\n",
       "      <td>4</td>\n",
       "      <td>1248</td>\n",
       "      <td>0</td>\n",
       "    </tr>\n",
       "    <tr>\n",
       "      <th>3</th>\n",
       "      <td>3</td>\n",
       "      <td>BIHAR</td>\n",
       "      <td>2001</td>\n",
       "      <td>888</td>\n",
       "      <td>518</td>\n",
       "      <td>859</td>\n",
       "      <td>562</td>\n",
       "      <td>21</td>\n",
       "      <td>1558</td>\n",
       "      <td>83</td>\n",
       "    </tr>\n",
       "    <tr>\n",
       "      <th>4</th>\n",
       "      <td>4</td>\n",
       "      <td>CHHATTISGARH</td>\n",
       "      <td>2001</td>\n",
       "      <td>959</td>\n",
       "      <td>171</td>\n",
       "      <td>70</td>\n",
       "      <td>1763</td>\n",
       "      <td>161</td>\n",
       "      <td>840</td>\n",
       "      <td>0</td>\n",
       "    </tr>\n",
       "    <tr>\n",
       "      <th>...</th>\n",
       "      <td>...</td>\n",
       "      <td>...</td>\n",
       "      <td>...</td>\n",
       "      <td>...</td>\n",
       "      <td>...</td>\n",
       "      <td>...</td>\n",
       "      <td>...</td>\n",
       "      <td>...</td>\n",
       "      <td>...</td>\n",
       "      <td>...</td>\n",
       "    </tr>\n",
       "    <tr>\n",
       "      <th>731</th>\n",
       "      <td>731</td>\n",
       "      <td>D&amp;N Haveli</td>\n",
       "      <td>2021</td>\n",
       "      <td>1250</td>\n",
       "      <td>4083</td>\n",
       "      <td>141</td>\n",
       "      <td>2068</td>\n",
       "      <td>417</td>\n",
       "      <td>4731</td>\n",
       "      <td>4</td>\n",
       "    </tr>\n",
       "    <tr>\n",
       "      <th>732</th>\n",
       "      <td>732</td>\n",
       "      <td>Daman &amp; Diu</td>\n",
       "      <td>2021</td>\n",
       "      <td>315</td>\n",
       "      <td>904</td>\n",
       "      <td>16</td>\n",
       "      <td>1851</td>\n",
       "      <td>10</td>\n",
       "      <td>501</td>\n",
       "      <td>1</td>\n",
       "    </tr>\n",
       "    <tr>\n",
       "      <th>733</th>\n",
       "      <td>733</td>\n",
       "      <td>Delhi UT</td>\n",
       "      <td>2021</td>\n",
       "      <td>2</td>\n",
       "      <td>1</td>\n",
       "      <td>0</td>\n",
       "      <td>5</td>\n",
       "      <td>1</td>\n",
       "      <td>9</td>\n",
       "      <td>0</td>\n",
       "    </tr>\n",
       "    <tr>\n",
       "      <th>734</th>\n",
       "      <td>734</td>\n",
       "      <td>Lakshadweep</td>\n",
       "      <td>2021</td>\n",
       "      <td>0</td>\n",
       "      <td>0</td>\n",
       "      <td>0</td>\n",
       "      <td>1</td>\n",
       "      <td>1</td>\n",
       "      <td>3</td>\n",
       "      <td>0</td>\n",
       "    </tr>\n",
       "    <tr>\n",
       "      <th>735</th>\n",
       "      <td>735</td>\n",
       "      <td>Puducherry</td>\n",
       "      <td>2021</td>\n",
       "      <td>2</td>\n",
       "      <td>0</td>\n",
       "      <td>2</td>\n",
       "      <td>31</td>\n",
       "      <td>3</td>\n",
       "      <td>12</td>\n",
       "      <td>0</td>\n",
       "    </tr>\n",
       "  </tbody>\n",
       "</table>\n",
       "<p>736 rows × 10 columns</p>\n",
       "</div>"
      ],
      "text/plain": [
       "     Unnamed: 0              State  Year  Rape   K&A   DD   AoW   AoM    DV  \\\n",
       "0             0     ANDHRA PRADESH  2001   871   765  420  3544  2271  5791   \n",
       "1             1  ARUNACHAL PRADESH  2001    33    55    0    78     3    11   \n",
       "2             2              ASSAM  2001   817  1070   59   850     4  1248   \n",
       "3             3              BIHAR  2001   888   518  859   562    21  1558   \n",
       "4             4       CHHATTISGARH  2001   959   171   70  1763   161   840   \n",
       "..          ...                ...   ...   ...   ...  ...   ...   ...   ...   \n",
       "731         731         D&N Haveli  2021  1250  4083  141  2068   417  4731   \n",
       "732         732        Daman & Diu  2021   315   904   16  1851    10   501   \n",
       "733         733           Delhi UT  2021     2     1    0     5     1     9   \n",
       "734         734        Lakshadweep  2021     0     0    0     1     1     3   \n",
       "735         735         Puducherry  2021     2     0    2    31     3    12   \n",
       "\n",
       "     WT  \n",
       "0     7  \n",
       "1     0  \n",
       "2     0  \n",
       "3    83  \n",
       "4     0  \n",
       "..   ..  \n",
       "731   4  \n",
       "732   1  \n",
       "733   0  \n",
       "734   0  \n",
       "735   0  \n",
       "\n",
       "[736 rows x 10 columns]"
      ]
     },
     "execution_count": 5,
     "metadata": {},
     "output_type": "execute_result"
    }
   ],
   "source": [
    "df=pd.read_csv(r'CrimesOnWomenData.csv')\n",
    "df"
   ]
  },
  {
   "cell_type": "code",
   "execution_count": 11,
   "id": "3d01ea2d-2d72-4e16-8d58-b8f943fbea51",
   "metadata": {},
   "outputs": [],
   "source": [
    "df.drop(columns=['Unnamed: 0'],inplace=True)"
   ]
  },
  {
   "cell_type": "code",
   "execution_count": 13,
   "id": "47a5810b-1dae-4d7e-bdd9-e27df397457b",
   "metadata": {},
   "outputs": [
    {
     "data": {
      "text/html": [
       "<div>\n",
       "<style scoped>\n",
       "    .dataframe tbody tr th:only-of-type {\n",
       "        vertical-align: middle;\n",
       "    }\n",
       "\n",
       "    .dataframe tbody tr th {\n",
       "        vertical-align: top;\n",
       "    }\n",
       "\n",
       "    .dataframe thead th {\n",
       "        text-align: right;\n",
       "    }\n",
       "</style>\n",
       "<table border=\"1\" class=\"dataframe\">\n",
       "  <thead>\n",
       "    <tr style=\"text-align: right;\">\n",
       "      <th></th>\n",
       "      <th>State</th>\n",
       "      <th>Year</th>\n",
       "      <th>Rape</th>\n",
       "      <th>K&amp;A</th>\n",
       "      <th>DD</th>\n",
       "      <th>AoW</th>\n",
       "      <th>AoM</th>\n",
       "      <th>DV</th>\n",
       "      <th>WT</th>\n",
       "    </tr>\n",
       "  </thead>\n",
       "  <tbody>\n",
       "    <tr>\n",
       "      <th>0</th>\n",
       "      <td>ANDHRA PRADESH</td>\n",
       "      <td>2001</td>\n",
       "      <td>871</td>\n",
       "      <td>765</td>\n",
       "      <td>420</td>\n",
       "      <td>3544</td>\n",
       "      <td>2271</td>\n",
       "      <td>5791</td>\n",
       "      <td>7</td>\n",
       "    </tr>\n",
       "    <tr>\n",
       "      <th>1</th>\n",
       "      <td>ARUNACHAL PRADESH</td>\n",
       "      <td>2001</td>\n",
       "      <td>33</td>\n",
       "      <td>55</td>\n",
       "      <td>0</td>\n",
       "      <td>78</td>\n",
       "      <td>3</td>\n",
       "      <td>11</td>\n",
       "      <td>0</td>\n",
       "    </tr>\n",
       "    <tr>\n",
       "      <th>2</th>\n",
       "      <td>ASSAM</td>\n",
       "      <td>2001</td>\n",
       "      <td>817</td>\n",
       "      <td>1070</td>\n",
       "      <td>59</td>\n",
       "      <td>850</td>\n",
       "      <td>4</td>\n",
       "      <td>1248</td>\n",
       "      <td>0</td>\n",
       "    </tr>\n",
       "    <tr>\n",
       "      <th>3</th>\n",
       "      <td>BIHAR</td>\n",
       "      <td>2001</td>\n",
       "      <td>888</td>\n",
       "      <td>518</td>\n",
       "      <td>859</td>\n",
       "      <td>562</td>\n",
       "      <td>21</td>\n",
       "      <td>1558</td>\n",
       "      <td>83</td>\n",
       "    </tr>\n",
       "    <tr>\n",
       "      <th>4</th>\n",
       "      <td>CHHATTISGARH</td>\n",
       "      <td>2001</td>\n",
       "      <td>959</td>\n",
       "      <td>171</td>\n",
       "      <td>70</td>\n",
       "      <td>1763</td>\n",
       "      <td>161</td>\n",
       "      <td>840</td>\n",
       "      <td>0</td>\n",
       "    </tr>\n",
       "    <tr>\n",
       "      <th>...</th>\n",
       "      <td>...</td>\n",
       "      <td>...</td>\n",
       "      <td>...</td>\n",
       "      <td>...</td>\n",
       "      <td>...</td>\n",
       "      <td>...</td>\n",
       "      <td>...</td>\n",
       "      <td>...</td>\n",
       "      <td>...</td>\n",
       "    </tr>\n",
       "    <tr>\n",
       "      <th>731</th>\n",
       "      <td>D&amp;N Haveli</td>\n",
       "      <td>2021</td>\n",
       "      <td>1250</td>\n",
       "      <td>4083</td>\n",
       "      <td>141</td>\n",
       "      <td>2068</td>\n",
       "      <td>417</td>\n",
       "      <td>4731</td>\n",
       "      <td>4</td>\n",
       "    </tr>\n",
       "    <tr>\n",
       "      <th>732</th>\n",
       "      <td>Daman &amp; Diu</td>\n",
       "      <td>2021</td>\n",
       "      <td>315</td>\n",
       "      <td>904</td>\n",
       "      <td>16</td>\n",
       "      <td>1851</td>\n",
       "      <td>10</td>\n",
       "      <td>501</td>\n",
       "      <td>1</td>\n",
       "    </tr>\n",
       "    <tr>\n",
       "      <th>733</th>\n",
       "      <td>Delhi UT</td>\n",
       "      <td>2021</td>\n",
       "      <td>2</td>\n",
       "      <td>1</td>\n",
       "      <td>0</td>\n",
       "      <td>5</td>\n",
       "      <td>1</td>\n",
       "      <td>9</td>\n",
       "      <td>0</td>\n",
       "    </tr>\n",
       "    <tr>\n",
       "      <th>734</th>\n",
       "      <td>Lakshadweep</td>\n",
       "      <td>2021</td>\n",
       "      <td>0</td>\n",
       "      <td>0</td>\n",
       "      <td>0</td>\n",
       "      <td>1</td>\n",
       "      <td>1</td>\n",
       "      <td>3</td>\n",
       "      <td>0</td>\n",
       "    </tr>\n",
       "    <tr>\n",
       "      <th>735</th>\n",
       "      <td>Puducherry</td>\n",
       "      <td>2021</td>\n",
       "      <td>2</td>\n",
       "      <td>0</td>\n",
       "      <td>2</td>\n",
       "      <td>31</td>\n",
       "      <td>3</td>\n",
       "      <td>12</td>\n",
       "      <td>0</td>\n",
       "    </tr>\n",
       "  </tbody>\n",
       "</table>\n",
       "<p>736 rows × 9 columns</p>\n",
       "</div>"
      ],
      "text/plain": [
       "                 State  Year  Rape   K&A   DD   AoW   AoM    DV  WT\n",
       "0       ANDHRA PRADESH  2001   871   765  420  3544  2271  5791   7\n",
       "1    ARUNACHAL PRADESH  2001    33    55    0    78     3    11   0\n",
       "2                ASSAM  2001   817  1070   59   850     4  1248   0\n",
       "3                BIHAR  2001   888   518  859   562    21  1558  83\n",
       "4         CHHATTISGARH  2001   959   171   70  1763   161   840   0\n",
       "..                 ...   ...   ...   ...  ...   ...   ...   ...  ..\n",
       "731         D&N Haveli  2021  1250  4083  141  2068   417  4731   4\n",
       "732        Daman & Diu  2021   315   904   16  1851    10   501   1\n",
       "733           Delhi UT  2021     2     1    0     5     1     9   0\n",
       "734        Lakshadweep  2021     0     0    0     1     1     3   0\n",
       "735         Puducherry  2021     2     0    2    31     3    12   0\n",
       "\n",
       "[736 rows x 9 columns]"
      ]
     },
     "execution_count": 13,
     "metadata": {},
     "output_type": "execute_result"
    }
   ],
   "source": [
    "df"
   ]
  },
  {
   "cell_type": "code",
   "execution_count": 17,
   "id": "8b4250fe-c949-433b-9e20-64d4718cc879",
   "metadata": {},
   "outputs": [],
   "source": [
    "df = df.dropna()"
   ]
  },
  {
   "cell_type": "code",
   "execution_count": 21,
   "id": "4cbee4a3-5656-4dc2-bd10-dc1147f78271",
   "metadata": {},
   "outputs": [
    {
     "name": "stdout",
     "output_type": "stream",
     "text": [
      "<class 'pandas.core.frame.DataFrame'>\n",
      "RangeIndex: 736 entries, 0 to 735\n",
      "Data columns (total 9 columns):\n",
      " #   Column  Non-Null Count  Dtype \n",
      "---  ------  --------------  ----- \n",
      " 0   State   736 non-null    object\n",
      " 1   Year    736 non-null    int64 \n",
      " 2   Rape    736 non-null    int64 \n",
      " 3   K&A     736 non-null    int64 \n",
      " 4   DD      736 non-null    int64 \n",
      " 5   AoW     736 non-null    int64 \n",
      " 6   AoM     736 non-null    int64 \n",
      " 7   DV      736 non-null    int64 \n",
      " 8   WT      736 non-null    int64 \n",
      "dtypes: int64(8), object(1)\n",
      "memory usage: 51.9+ KB\n"
     ]
    }
   ],
   "source": [
    "df.info()"
   ]
  },
  {
   "cell_type": "code",
   "execution_count": 23,
   "id": "12b29397-00a5-492e-9a4b-87efda14d075",
   "metadata": {},
   "outputs": [
    {
     "data": {
      "text/html": [
       "<div>\n",
       "<style scoped>\n",
       "    .dataframe tbody tr th:only-of-type {\n",
       "        vertical-align: middle;\n",
       "    }\n",
       "\n",
       "    .dataframe tbody tr th {\n",
       "        vertical-align: top;\n",
       "    }\n",
       "\n",
       "    .dataframe thead th {\n",
       "        text-align: right;\n",
       "    }\n",
       "</style>\n",
       "<table border=\"1\" class=\"dataframe\">\n",
       "  <thead>\n",
       "    <tr style=\"text-align: right;\">\n",
       "      <th></th>\n",
       "      <th>State</th>\n",
       "      <th>Year</th>\n",
       "      <th>Rape</th>\n",
       "      <th>K&amp;A</th>\n",
       "      <th>DD</th>\n",
       "      <th>AoW</th>\n",
       "      <th>AoM</th>\n",
       "      <th>DV</th>\n",
       "      <th>WT</th>\n",
       "    </tr>\n",
       "  </thead>\n",
       "  <tbody>\n",
       "  </tbody>\n",
       "</table>\n",
       "</div>"
      ],
      "text/plain": [
       "Empty DataFrame\n",
       "Columns: [State, Year, Rape, K&A, DD, AoW, AoM, DV, WT]\n",
       "Index: []"
      ]
     },
     "execution_count": 23,
     "metadata": {},
     "output_type": "execute_result"
    }
   ],
   "source": [
    "df[df.duplicated()]"
   ]
  },
  {
   "cell_type": "code",
   "execution_count": 25,
   "id": "3940ef96-3d25-4d4e-b822-bd004b8f8f78",
   "metadata": {},
   "outputs": [
    {
     "data": {
      "text/plain": [
       "State    0\n",
       "Year     0\n",
       "Rape     0\n",
       "K&A      0\n",
       "DD       0\n",
       "AoW      0\n",
       "AoM      0\n",
       "DV       0\n",
       "WT       0\n",
       "dtype: int64"
      ]
     },
     "execution_count": 25,
     "metadata": {},
     "output_type": "execute_result"
    }
   ],
   "source": [
    "df.isnull().sum()"
   ]
  },
  {
   "cell_type": "code",
   "execution_count": 27,
   "id": "22979b9d-6b96-475f-8b65-6e5923f893cc",
   "metadata": {},
   "outputs": [
    {
     "data": {
      "text/plain": [
       "<Axes: >"
      ]
     },
     "execution_count": 27,
     "metadata": {},
     "output_type": "execute_result"
    },
    {
     "data": {
      "image/png": "[encoded data removed]",
      "text/plain": [
       "<Figure size 640x480 with 2 Axes>"
      ]
     },
     "metadata": {},
     "output_type": "display_data"
    }
   ],
   "source": [
    "sns.heatmap(df.isnull())"
   ]
  },
  {
   "cell_type": "code",
   "execution_count": 29,
   "id": "4e53213d-df5b-4454-bb2d-d59dd883df42",
   "metadata": {},
   "outputs": [
    {
     "data": {
      "text/plain": [
       "count     736.000000\n",
       "mean      727.855978\n",
       "std       977.024945\n",
       "min         0.000000\n",
       "25%        35.000000\n",
       "50%       348.500000\n",
       "75%      1069.000000\n",
       "max      6337.000000\n",
       "Name: Rape, dtype: float64"
      ]
     },
     "execution_count": 29,
     "metadata": {},
     "output_type": "execute_result"
    }
   ],
   "source": [
    "df.Rape.describe()"
   ]
  },
  {
   "cell_type": "code",
   "execution_count": 31,
   "id": "9fe53c86-1768-4657-8db7-6843c3e916bc",
   "metadata": {},
   "outputs": [
    {
     "data": {
      "text/plain": [
       "<Axes: xlabel='Rape', ylabel='Density'>"
      ]
     },
     "execution_count": 31,
     "metadata": {},
     "output_type": "execute_result"
    },
    {
     "data": {
      "image/png": "[encoded data removed]",
      "text/plain": [
       "<Figure size 640x480 with 1 Axes>"
      ]
     },
     "metadata": {},
     "output_type": "display_data"
    }
   ],
   "source": [
    "sns.distplot(df.Rape)"
   ]
  },
  {
   "cell_type": "code",
   "execution_count": 33,
   "id": "f3a7b10e-5ce6-451d-81ec-60cce0dc2c94",
   "metadata": {},
   "outputs": [
    {
     "data": {
      "image/png": "[encoded data removed]",
      "text/plain": [
       "<Figure size 600x300 with 1 Axes>"
      ]
     },
     "metadata": {},
     "output_type": "display_data"
    }
   ],
   "source": [
    "plt.figure(figsize=(6, 3))\n",
    "sns.histplot(df['Rape'], kde=True)\n",
    "plt.title('Original Right-Skewed Data')\n",
    "plt.show()"
   ]
  },
  {
   "cell_type": "code",
   "execution_count": 35,
   "id": "2e1bd740-3f27-48c8-bdf8-038dccd68e3d",
   "metadata": {},
   "outputs": [
    {
     "data": {
      "image/png": "[encoded data removed]",
      "text/plain": [
       "<Figure size 640x480 with 1 Axes>"
      ]
     },
     "metadata": {},
     "output_type": "display_data"
    }
   ],
   "source": [
    "sns.boxplot(x= df.Rape)\n",
    "plt.xlabel('Crimes')\n",
    "plt.title('Box plot of Crimes on women')\n",
    "plt.show()"
   ]
  },
  {
   "cell_type": "code",
   "execution_count": 37,
   "id": "b5e04be2-f403-483e-8c66-2afc6725c650",
   "metadata": {},
   "outputs": [
    {
     "name": "stdout",
     "output_type": "stream",
     "text": [
      "<class 'pandas.core.frame.DataFrame'>\n",
      "RangeIndex: 736 entries, 0 to 735\n",
      "Data columns (total 9 columns):\n",
      " #   Column  Non-Null Count  Dtype \n",
      "---  ------  --------------  ----- \n",
      " 0   State   736 non-null    object\n",
      " 1   Year    736 non-null    int64 \n",
      " 2   Rape    736 non-null    int64 \n",
      " 3   K&A     736 non-null    int64 \n",
      " 4   DD      736 non-null    int64 \n",
      " 5   AoW     736 non-null    int64 \n",
      " 6   AoM     736 non-null    int64 \n",
      " 7   DV      736 non-null    int64 \n",
      " 8   WT      736 non-null    int64 \n",
      "dtypes: int64(8), object(1)\n",
      "memory usage: 51.9+ KB\n"
     ]
    }
   ],
   "source": [
    "df.info()"
   ]
  },
  {
   "cell_type": "code",
   "execution_count": 39,
   "id": "4f18843a-9bf2-4ce2-9b00-42baa6384d98",
   "metadata": {},
   "outputs": [
    {
     "data": {
      "text/plain": [
       "Year\n",
       "2011    36\n",
       "2012    36\n",
       "2020    36\n",
       "2019    36\n",
       "2018    36\n",
       "2017    36\n",
       "2016    36\n",
       "2015    36\n",
       "2014    36\n",
       "2013    36\n",
       "2021    36\n",
       "2002    34\n",
       "2010    34\n",
       "2009    34\n",
       "2008    34\n",
       "2007    34\n",
       "2006    34\n",
       "2005    34\n",
       "2004    34\n",
       "2003    34\n",
       "2001    34\n",
       "Name: count, dtype: int64"
      ]
     },
     "execution_count": 39,
     "metadata": {},
     "output_type": "execute_result"
    }
   ],
   "source": [
    "df.Year.value_counts()"
   ]
  },
  {
   "cell_type": "code",
   "execution_count": 43,
   "id": "0e3f406d-8fb2-47f1-ba0e-21a9d110c080",
   "metadata": {},
   "outputs": [
    {
     "data": {
      "image/png": "[encoded data removed]",
      "text/plain": [
       "<Figure size 640x480 with 1 Axes>"
      ]
     },
     "metadata": {},
     "output_type": "display_data"
    }
   ],
   "source": [
    "sns.countplot(x = df.Year)\n",
    "plt.title('Crimes on women baesd on year')\n",
    "plt.xticks(rotation=50)\n",
    "plt.xlabel('Model Year of crimes')\n",
    "plt.ylabel('No of rapes')\n",
    "plt.show()"
   ]
  },
  {
   "cell_type": "code",
   "execution_count": 52,
   "id": "7719dcb7-1b47-4416-aa9b-7a92892de956",
   "metadata": {},
   "outputs": [],
   "source": [
    "# Statistical test\n",
    "# t-test\n",
    "from scipy.stats import ttest_ind\n",
    "# Anova test\n",
    "import statsmodels.api as sm\n",
    "from statsmodels.formula.api import ols\n",
    "# Tukey HSD\n",
    "from statsmodels.stats.multicomp import pairwise_tukeyhsd\n",
    "# chi-square\n",
    "from scipy.stats import (chi2,chi2_contingency)\n",
    "import statsmodels.formula.api as smf"
   ]
  },
  {
   "cell_type": "code",
   "execution_count": 54,
   "id": "2a1fa46f-af4e-4c7d-9eb0-838850346e03",
   "metadata": {},
   "outputs": [
    {
     "data": {
      "text/html": [
       "<div>\n",
       "<style scoped>\n",
       "    .dataframe tbody tr th:only-of-type {\n",
       "        vertical-align: middle;\n",
       "    }\n",
       "\n",
       "    .dataframe tbody tr th {\n",
       "        vertical-align: top;\n",
       "    }\n",
       "\n",
       "    .dataframe thead th {\n",
       "        text-align: right;\n",
       "    }\n",
       "</style>\n",
       "<table border=\"1\" class=\"dataframe\">\n",
       "  <thead>\n",
       "    <tr style=\"text-align: right;\">\n",
       "      <th></th>\n",
       "      <th>df</th>\n",
       "      <th>sum_sq</th>\n",
       "      <th>mean_sq</th>\n",
       "      <th>F</th>\n",
       "      <th>PR(&gt;F)</th>\n",
       "    </tr>\n",
       "  </thead>\n",
       "  <tbody>\n",
       "    <tr>\n",
       "      <th>Year</th>\n",
       "      <td>1.0</td>\n",
       "      <td>2.121460e+07</td>\n",
       "      <td>2.121460e+07</td>\n",
       "      <td>22.88582</td>\n",
       "      <td>0.000002</td>\n",
       "    </tr>\n",
       "    <tr>\n",
       "      <th>Residual</th>\n",
       "      <td>734.0</td>\n",
       "      <td>6.804000e+08</td>\n",
       "      <td>9.269755e+05</td>\n",
       "      <td>NaN</td>\n",
       "      <td>NaN</td>\n",
       "    </tr>\n",
       "  </tbody>\n",
       "</table>\n",
       "</div>"
      ],
      "text/plain": [
       "             df        sum_sq       mean_sq         F    PR(>F)\n",
       "Year        1.0  2.121460e+07  2.121460e+07  22.88582  0.000002\n",
       "Residual  734.0  6.804000e+08  9.269755e+05       NaN       NaN"
      ]
     },
     "execution_count": 54,
     "metadata": {},
     "output_type": "execute_result"
    }
   ],
   "source": [
    "model_year = ols('Rape ~ Year',data = df).fit()\n",
    "anova_year = sm.stats.anova_lm(model_year)\n",
    "anova_year"
   ]
  },
  {
   "cell_type": "code",
   "execution_count": 56,
   "id": "77cf1827-6e58-4003-a590-cb4413cc3ec3",
   "metadata": {},
   "outputs": [
    {
     "data": {
      "text/plain": [
       "Index(['State', 'Year', 'Rape', 'K&A', 'DD', 'AoW', 'AoM', 'DV', 'WT'], dtype='object')"
      ]
     },
     "execution_count": 56,
     "metadata": {},
     "output_type": "execute_result"
    }
   ],
   "source": [
    "df.columns"
   ]
  },
  {
   "cell_type": "code",
   "execution_count": 58,
   "id": "e14ef66a-6f34-4ef8-86a9-70e0b3427419",
   "metadata": {},
   "outputs": [
    {
     "data": {
      "text/html": [
       "<div>\n",
       "<style scoped>\n",
       "    .dataframe tbody tr th:only-of-type {\n",
       "        vertical-align: middle;\n",
       "    }\n",
       "\n",
       "    .dataframe tbody tr th {\n",
       "        vertical-align: top;\n",
       "    }\n",
       "\n",
       "    .dataframe thead th {\n",
       "        text-align: right;\n",
       "    }\n",
       "</style>\n",
       "<table border=\"1\" class=\"dataframe\">\n",
       "  <thead>\n",
       "    <tr style=\"text-align: right;\">\n",
       "      <th></th>\n",
       "      <th>State</th>\n",
       "      <th>Year</th>\n",
       "      <th>Rape</th>\n",
       "      <th>K&amp;A</th>\n",
       "      <th>DD</th>\n",
       "      <th>AoW</th>\n",
       "      <th>AoM</th>\n",
       "      <th>DV</th>\n",
       "      <th>WT</th>\n",
       "    </tr>\n",
       "  </thead>\n",
       "  <tbody>\n",
       "    <tr>\n",
       "      <th>0</th>\n",
       "      <td>ANDHRA PRADESH</td>\n",
       "      <td>2001</td>\n",
       "      <td>871</td>\n",
       "      <td>765</td>\n",
       "      <td>420</td>\n",
       "      <td>3544</td>\n",
       "      <td>2271</td>\n",
       "      <td>5791</td>\n",
       "      <td>7</td>\n",
       "    </tr>\n",
       "    <tr>\n",
       "      <th>1</th>\n",
       "      <td>ARUNACHAL PRADESH</td>\n",
       "      <td>2001</td>\n",
       "      <td>33</td>\n",
       "      <td>55</td>\n",
       "      <td>0</td>\n",
       "      <td>78</td>\n",
       "      <td>3</td>\n",
       "      <td>11</td>\n",
       "      <td>0</td>\n",
       "    </tr>\n",
       "  </tbody>\n",
       "</table>\n",
       "</div>"
      ],
      "text/plain": [
       "               State  Year  Rape  K&A   DD   AoW   AoM    DV  WT\n",
       "0     ANDHRA PRADESH  2001   871  765  420  3544  2271  5791   7\n",
       "1  ARUNACHAL PRADESH  2001    33   55    0    78     3    11   0"
      ]
     },
     "execution_count": 58,
     "metadata": {},
     "output_type": "execute_result"
    }
   ],
   "source": [
    "df.head(2)"
   ]
  },
  {
   "cell_type": "code",
   "execution_count": 60,
   "id": "bdaad33e-13b0-4bb2-a97c-6b3bc3a0bb90",
   "metadata": {},
   "outputs": [
    {
     "data": {
      "text/html": [
       "<div>\n",
       "<style scoped>\n",
       "    .dataframe tbody tr th:only-of-type {\n",
       "        vertical-align: middle;\n",
       "    }\n",
       "\n",
       "    .dataframe tbody tr th {\n",
       "        vertical-align: top;\n",
       "    }\n",
       "\n",
       "    .dataframe thead th {\n",
       "        text-align: right;\n",
       "    }\n",
       "</style>\n",
       "<table border=\"1\" class=\"dataframe\">\n",
       "  <thead>\n",
       "    <tr style=\"text-align: right;\">\n",
       "      <th></th>\n",
       "      <th>Year</th>\n",
       "      <th>Rape</th>\n",
       "      <th>K&amp;A</th>\n",
       "      <th>DD</th>\n",
       "      <th>AoW</th>\n",
       "      <th>AoM</th>\n",
       "      <th>DV</th>\n",
       "      <th>WT</th>\n",
       "    </tr>\n",
       "  </thead>\n",
       "  <tbody>\n",
       "    <tr>\n",
       "      <th>Year</th>\n",
       "      <td>1.000000</td>\n",
       "      <td>0.173887</td>\n",
       "      <td>0.304664</td>\n",
       "      <td>-0.000553</td>\n",
       "      <td>0.238821</td>\n",
       "      <td>0.004101</td>\n",
       "      <td>0.165201</td>\n",
       "      <td>0.208886</td>\n",
       "    </tr>\n",
       "    <tr>\n",
       "      <th>Rape</th>\n",
       "      <td>0.173887</td>\n",
       "      <td>1.000000</td>\n",
       "      <td>0.700730</td>\n",
       "      <td>0.553497</td>\n",
       "      <td>0.804336</td>\n",
       "      <td>0.458025</td>\n",
       "      <td>0.680321</td>\n",
       "      <td>0.219218</td>\n",
       "    </tr>\n",
       "    <tr>\n",
       "      <th>K&amp;A</th>\n",
       "      <td>0.304664</td>\n",
       "      <td>0.700730</td>\n",
       "      <td>1.000000</td>\n",
       "      <td>0.691524</td>\n",
       "      <td>0.671159</td>\n",
       "      <td>0.355703</td>\n",
       "      <td>0.685999</td>\n",
       "      <td>0.179016</td>\n",
       "    </tr>\n",
       "    <tr>\n",
       "      <th>DD</th>\n",
       "      <td>-0.000553</td>\n",
       "      <td>0.553497</td>\n",
       "      <td>0.691524</td>\n",
       "      <td>1.000000</td>\n",
       "      <td>0.456012</td>\n",
       "      <td>0.422970</td>\n",
       "      <td>0.487465</td>\n",
       "      <td>0.093254</td>\n",
       "    </tr>\n",
       "    <tr>\n",
       "      <th>AoW</th>\n",
       "      <td>0.238821</td>\n",
       "      <td>0.804336</td>\n",
       "      <td>0.671159</td>\n",
       "      <td>0.456012</td>\n",
       "      <td>1.000000</td>\n",
       "      <td>0.521432</td>\n",
       "      <td>0.631558</td>\n",
       "      <td>0.284338</td>\n",
       "    </tr>\n",
       "    <tr>\n",
       "      <th>AoM</th>\n",
       "      <td>0.004101</td>\n",
       "      <td>0.458025</td>\n",
       "      <td>0.355703</td>\n",
       "      <td>0.422970</td>\n",
       "      <td>0.521432</td>\n",
       "      <td>1.000000</td>\n",
       "      <td>0.419300</td>\n",
       "      <td>0.260077</td>\n",
       "    </tr>\n",
       "    <tr>\n",
       "      <th>DV</th>\n",
       "      <td>0.165201</td>\n",
       "      <td>0.680321</td>\n",
       "      <td>0.685999</td>\n",
       "      <td>0.487465</td>\n",
       "      <td>0.631558</td>\n",
       "      <td>0.419300</td>\n",
       "      <td>1.000000</td>\n",
       "      <td>0.280839</td>\n",
       "    </tr>\n",
       "    <tr>\n",
       "      <th>WT</th>\n",
       "      <td>0.208886</td>\n",
       "      <td>0.219218</td>\n",
       "      <td>0.179016</td>\n",
       "      <td>0.093254</td>\n",
       "      <td>0.284338</td>\n",
       "      <td>0.260077</td>\n",
       "      <td>0.280839</td>\n",
       "      <td>1.000000</td>\n",
       "    </tr>\n",
       "  </tbody>\n",
       "</table>\n",
       "</div>"
      ],
      "text/plain": [
       "          Year      Rape       K&A        DD       AoW       AoM        DV  \\\n",
       "Year  1.000000  0.173887  0.304664 -0.000553  0.238821  0.004101  0.165201   \n",
       "Rape  0.173887  1.000000  0.700730  0.553497  0.804336  0.458025  0.680321   \n",
       "K&A   0.304664  0.700730  1.000000  0.691524  0.671159  0.355703  0.685999   \n",
       "DD   -0.000553  0.553497  0.691524  1.000000  0.456012  0.422970  0.487465   \n",
       "AoW   0.238821  0.804336  0.671159  0.456012  1.000000  0.521432  0.631558   \n",
       "AoM   0.004101  0.458025  0.355703  0.422970  0.521432  1.000000  0.419300   \n",
       "DV    0.165201  0.680321  0.685999  0.487465  0.631558  0.419300  1.000000   \n",
       "WT    0.208886  0.219218  0.179016  0.093254  0.284338  0.260077  0.280839   \n",
       "\n",
       "            WT  \n",
       "Year  0.208886  \n",
       "Rape  0.219218  \n",
       "K&A   0.179016  \n",
       "DD    0.093254  \n",
       "AoW   0.284338  \n",
       "AoM   0.260077  \n",
       "DV    0.280839  \n",
       "WT    1.000000  "
      ]
     },
     "execution_count": 60,
     "metadata": {},
     "output_type": "execute_result"
    }
   ],
   "source": [
    "df[df.describe(exclude= 'object').columns].corr()"
   ]
  },
  {
   "cell_type": "code",
   "execution_count": 62,
   "id": "9cdf8752-f18f-4bbe-aac3-0ffdf8546de0",
   "metadata": {},
   "outputs": [
    {
     "data": {
      "text/plain": [
       "<Axes: >"
      ]
     },
     "execution_count": 62,
     "metadata": {},
     "output_type": "execute_result"
    },
    {
     "data": {
      "image/png": "[encoded data removed]",
      "text/plain": [
       "<Figure size 640x480 with 2 Axes>"
      ]
     },
     "metadata": {},
     "output_type": "display_data"
    }
   ],
   "source": [
    "sns.heatmap(df[df.describe().columns].corr(),annot=True)"
   ]
  },
  {
   "cell_type": "code",
   "execution_count": 64,
   "id": "1991f0ae-adab-4d9f-ad9f-5c764aae5be9",
   "metadata": {},
   "outputs": [
    {
     "data": {
      "text/plain": [
       "Year    0.173887\n",
       "Rape    1.000000\n",
       "K&A     0.700730\n",
       "DD      0.553497\n",
       "AoW     0.804336\n",
       "AoM     0.458025\n",
       "DV      0.680321\n",
       "WT      0.219218\n",
       "Name: Rape, dtype: float64"
      ]
     },
     "execution_count": 64,
     "metadata": {},
     "output_type": "execute_result"
    }
   ],
   "source": [
    "df[df.describe().columns].corr()['Rape']"
   ]
  },
  {
   "cell_type": "code",
   "execution_count": 68,
   "id": "4333528d-78ba-457e-b975-6987f79f4797",
   "metadata": {},
   "outputs": [],
   "source": [
    "X = df[['K&A', 'DD', 'AoW', 'AoM', 'DV', 'WT']]  # Independent variables\n",
    "y = df['Rape']  # Dependent variable\n",
    "X_train, X_test, y_train, y_test = train_test_split(X, y, test_size=0.2, random_state=42)"
   ]
  },
  {
   "cell_type": "code",
   "execution_count": 72,
   "id": "0029bd14-c4a1-4622-9369-131dd6e7a575",
   "metadata": {},
   "outputs": [
    {
     "name": "stdout",
     "output_type": "stream",
     "text": [
      "(588, 6) (148, 6) (588,) (148,)\n"
     ]
    }
   ],
   "source": [
    "model = LinearRegression()\n",
    "print(X_train.shape,X_test.shape,y_train.shape,y_test.shape)"
   ]
  },
  {
   "cell_type": "code",
   "execution_count": 74,
   "id": "0686fd45-23a6-49a5-97bb-ccddaf95324c",
   "metadata": {},
   "outputs": [
    {
     "data": {
      "text/html": [
       "<div>\n",
       "<style scoped>\n",
       "    .dataframe tbody tr th:only-of-type {\n",
       "        vertical-align: middle;\n",
       "    }\n",
       "\n",
       "    .dataframe tbody tr th {\n",
       "        vertical-align: top;\n",
       "    }\n",
       "\n",
       "    .dataframe thead th {\n",
       "        text-align: right;\n",
       "    }\n",
       "</style>\n",
       "<table border=\"1\" class=\"dataframe\">\n",
       "  <thead>\n",
       "    <tr style=\"text-align: right;\">\n",
       "      <th></th>\n",
       "      <th>K&amp;A</th>\n",
       "      <th>DD</th>\n",
       "      <th>AoW</th>\n",
       "      <th>AoM</th>\n",
       "      <th>DV</th>\n",
       "      <th>WT</th>\n",
       "    </tr>\n",
       "  </thead>\n",
       "  <tbody>\n",
       "    <tr>\n",
       "      <th>135</th>\n",
       "      <td>8</td>\n",
       "      <td>6</td>\n",
       "      <td>50</td>\n",
       "      <td>30</td>\n",
       "      <td>2</td>\n",
       "      <td>0</td>\n",
       "    </tr>\n",
       "    <tr>\n",
       "      <th>545</th>\n",
       "      <td>119</td>\n",
       "      <td>19</td>\n",
       "      <td>214</td>\n",
       "      <td>52</td>\n",
       "      <td>430</td>\n",
       "      <td>0</td>\n",
       "    </tr>\n",
       "    <tr>\n",
       "      <th>497</th>\n",
       "      <td>4547</td>\n",
       "      <td>664</td>\n",
       "      <td>8049</td>\n",
       "      <td>2559</td>\n",
       "      <td>5281</td>\n",
       "      <td>25</td>\n",
       "    </tr>\n",
       "  </tbody>\n",
       "</table>\n",
       "</div>"
      ],
      "text/plain": [
       "      K&A   DD   AoW   AoM    DV  WT\n",
       "135     8    6    50    30     2   0\n",
       "545   119   19   214    52   430   0\n",
       "497  4547  664  8049  2559  5281  25"
      ]
     },
     "execution_count": 74,
     "metadata": {},
     "output_type": "execute_result"
    }
   ],
   "source": [
    "X_train.head(3)"
   ]
  },
  {
   "cell_type": "code",
   "execution_count": 76,
   "id": "054b2b89-487c-47b5-9524-210a0939cce9",
   "metadata": {},
   "outputs": [],
   "source": [
    "model = LinearRegression()\n",
    "model.fit(X_train, y_train)\n",
    "y_train_pred = model.predict(X_train)\n",
    "y_test_pred = model.predict(X_test)"
   ]
  },
  {
   "cell_type": "code",
   "execution_count": 80,
   "id": "3c3e6618-6f77-458e-b75b-cc4de66036bb",
   "metadata": {},
   "outputs": [],
   "source": [
    "y_pred = model.predict(X_test)"
   ]
  },
  {
   "cell_type": "code",
   "execution_count": 86,
   "id": "fa241ac0-6c6d-4bcb-a71e-574c21d51e9b",
   "metadata": {},
   "outputs": [],
   "source": [
    "mse = mean_squared_error(y_test, y_pred)\n",
    "rmse = mse ** 0.5\n",
    "r2 = r2_score(y_test, y_pred)"
   ]
  },
  {
   "cell_type": "code",
   "execution_count": 88,
   "id": "90b3923a-d502-45f1-a0e3-78cd1dcda90f",
   "metadata": {},
   "outputs": [
    {
     "data": {
      "text/plain": [
       "0.7197840146073522"
      ]
     },
     "execution_count": 88,
     "metadata": {},
     "output_type": "execute_result"
    }
   ],
   "source": [
    "r2_score(y_test, y_test_pred)"
   ]
  },
  {
   "cell_type": "code",
   "execution_count": 90,
   "id": "9cd43497-702e-4c42-8f7c-7b899a327caf",
   "metadata": {},
   "outputs": [
    {
     "data": {
      "text/plain": [
       "0.7202147594689685"
      ]
     },
     "execution_count": 90,
     "metadata": {},
     "output_type": "execute_result"
    }
   ],
   "source": [
    "r2_score(y_train,y_train_pred)"
   ]
  },
  {
   "cell_type": "code",
   "execution_count": 96,
   "id": "e344d8b2-654e-4756-9019-130825018c7f",
   "metadata": {},
   "outputs": [],
   "source": [
    "model2 = DecisionTreeRegressor()\n",
    "model2.fit(X_train,y_train)\n",
    "y_train_pred_dt = model2.predict(X_train)\n",
    "y_test_pred_dt = model2.predict(X_test)"
   ]
  },
  {
   "cell_type": "code",
   "execution_count": 100,
   "id": "86a57a24-f8cf-4a41-9eca-62b65770137f",
   "metadata": {},
   "outputs": [
    {
     "name": "stdout",
     "output_type": "stream",
     "text": [
      "0.7126796357246794\n",
      "0.9999999945841779\n"
     ]
    }
   ],
   "source": [
    "print(r2_score(y_test, y_test_pred_dt))\n",
    "print(r2_score(y_train,y_train_pred_dt))"
   ]
  },
  {
   "cell_type": "code",
   "execution_count": 102,
   "id": "85577788-3cfc-481b-9d94-43d88174fd2e",
   "metadata": {},
   "outputs": [
    {
     "name": "stdout",
     "output_type": "stream",
     "text": [
      "0.9804939165467904\n",
      "0.8746207115251576\n"
     ]
    }
   ],
   "source": [
    "from sklearn.ensemble import RandomForestRegressor\n",
    "\n",
    "model3 = RandomForestRegressor()\n",
    "model3.fit(X_train,y_train)\n",
    "y_train_pred_rf = model3.predict(X_train)\n",
    "y_test_pred_rf = model3.predict(X_test)\n",
    "print(r2_score(y_train,y_train_pred_rf))\n",
    "print(r2_score(y_test,y_test_pred_rf))"
   ]
  },
  {
   "cell_type": "code",
   "execution_count": 104,
   "id": "dfc03320-f439-45ae-8715-fdd839f90e6e",
   "metadata": {},
   "outputs": [],
   "source": [
    "import statsmodels.api as sm\n",
    "import statsmodels.formula.api as smf"
   ]
  },
  {
   "cell_type": "code",
   "execution_count": 138,
   "id": "8a3b714e-0739-40d3-a770-bec03411db46",
   "metadata": {},
   "outputs": [],
   "source": [
    "model=smf.ols(formula='Rape~ Year + DD + AoW + AoM + DV + WT',data=df).fit()"
   ]
  },
  {
   "cell_type": "code",
   "execution_count": 116,
   "id": "edff2ddd-7687-42a7-a48e-173a07464f9a",
   "metadata": {},
   "outputs": [
    {
     "data": {
      "text/plain": [
       "count      736.000000\n",
       "mean      1134.542120\n",
       "std       1993.536828\n",
       "min          0.000000\n",
       "25%         24.750000\n",
       "50%        290.000000\n",
       "75%       1216.000000\n",
       "max      15381.000000\n",
       "Name: K&A, dtype: float64"
      ]
     },
     "execution_count": 116,
     "metadata": {},
     "output_type": "execute_result"
    }
   ],
   "source": [
    "df['K&A'].describe()"
   ]
  },
  {
   "cell_type": "code",
   "execution_count": 140,
   "id": "b6fd9f77-39fc-4a8e-bf81-c53b9ff49edf",
   "metadata": {},
   "outputs": [
    {
     "data": {
      "text/html": [
       "<table class=\"simpletable\">\n",
       "<caption>OLS Regression Results</caption>\n",
       "<tr>\n",
       "  <th>Dep. Variable:</th>          <td>Rape</td>       <th>  R-squared:         </th> <td>   0.720</td> \n",
       "</tr>\n",
       "<tr>\n",
       "  <th>Model:</th>                   <td>OLS</td>       <th>  Adj. R-squared:    </th> <td>   0.718</td> \n",
       "</tr>\n",
       "<tr>\n",
       "  <th>Method:</th>             <td>Least Squares</td>  <th>  F-statistic:       </th> <td>   313.1</td> \n",
       "</tr>\n",
       "<tr>\n",
       "  <th>Date:</th>             <td>Wed, 11 Sep 2024</td> <th>  Prob (F-statistic):</th> <td>6.09e-198</td>\n",
       "</tr>\n",
       "<tr>\n",
       "  <th>Time:</th>                 <td>10:55:28</td>     <th>  Log-Likelihood:    </th> <td> -5641.8</td> \n",
       "</tr>\n",
       "<tr>\n",
       "  <th>No. Observations:</th>      <td>   736</td>      <th>  AIC:               </th> <td>1.130e+04</td>\n",
       "</tr>\n",
       "<tr>\n",
       "  <th>Df Residuals:</th>          <td>   729</td>      <th>  BIC:               </th> <td>1.133e+04</td>\n",
       "</tr>\n",
       "<tr>\n",
       "  <th>Df Model:</th>              <td>     6</td>      <th>                     </th>     <td> </td>    \n",
       "</tr>\n",
       "<tr>\n",
       "  <th>Covariance Type:</th>      <td>nonrobust</td>    <th>                     </th>     <td> </td>    \n",
       "</tr>\n",
       "</table>\n",
       "<table class=\"simpletable\">\n",
       "<tr>\n",
       "      <td></td>         <th>coef</th>     <th>std err</th>      <th>t</th>      <th>P>|t|</th>  <th>[0.025</th>    <th>0.975]</th>  \n",
       "</tr>\n",
       "<tr>\n",
       "  <th>Intercept</th> <td>  220.7564</td> <td> 6746.175</td> <td>    0.033</td> <td> 0.974</td> <td> -1.3e+04</td> <td> 1.35e+04</td>\n",
       "</tr>\n",
       "<tr>\n",
       "  <th>Year</th>      <td>   -0.0411</td> <td>    3.356</td> <td>   -0.012</td> <td> 0.990</td> <td>   -6.630</td> <td>    6.547</td>\n",
       "</tr>\n",
       "<tr>\n",
       "  <th>DD</th>        <td>    0.4129</td> <td>    0.055</td> <td>    7.545</td> <td> 0.000</td> <td>    0.305</td> <td>    0.520</td>\n",
       "</tr>\n",
       "<tr>\n",
       "  <th>AoW</th>       <td>    0.2345</td> <td>    0.011</td> <td>   20.977</td> <td> 0.000</td> <td>    0.213</td> <td>    0.256</td>\n",
       "</tr>\n",
       "<tr>\n",
       "  <th>AoM</th>       <td>   -0.0212</td> <td>    0.029</td> <td>   -0.722</td> <td> 0.470</td> <td>   -0.079</td> <td>    0.036</td>\n",
       "</tr>\n",
       "<tr>\n",
       "  <th>DV</th>        <td>    0.0566</td> <td>    0.006</td> <td>    8.752</td> <td> 0.000</td> <td>    0.044</td> <td>    0.069</td>\n",
       "</tr>\n",
       "<tr>\n",
       "  <th>WT</th>        <td>   -0.3279</td> <td>    0.259</td> <td>   -1.267</td> <td> 0.205</td> <td>   -0.836</td> <td>    0.180</td>\n",
       "</tr>\n",
       "</table>\n",
       "<table class=\"simpletable\">\n",
       "<tr>\n",
       "  <th>Omnibus:</th>       <td>241.160</td> <th>  Durbin-Watson:     </th> <td>   1.905</td>\n",
       "</tr>\n",
       "<tr>\n",
       "  <th>Prob(Omnibus):</th> <td> 0.000</td>  <th>  Jarque-Bera (JB):  </th> <td>2281.649</td>\n",
       "</tr>\n",
       "<tr>\n",
       "  <th>Skew:</th>          <td> 1.190</td>  <th>  Prob(JB):          </th> <td>    0.00</td>\n",
       "</tr>\n",
       "<tr>\n",
       "  <th>Kurtosis:</th>      <td>11.291</td>  <th>  Cond. No.          </th> <td>1.94e+06</td>\n",
       "</tr>\n",
       "</table><br/><br/>Notes:<br/>[1] Standard Errors assume that the covariance matrix of the errors is correctly specified.<br/>[2] The condition number is large, 1.94e+06. This might indicate that there are<br/>strong multicollinearity or other numerical problems."
      ],
      "text/latex": [
       "\\begin{center}\n",
       "\\begin{tabular}{lclc}\n",
       "\\toprule\n",
       "\\textbf{Dep. Variable:}    &       Rape       & \\textbf{  R-squared:         } &     0.720   \\\\\n",
       "\\textbf{Model:}            &       OLS        & \\textbf{  Adj. R-squared:    } &     0.718   \\\\\n",
       "\\textbf{Method:}           &  Least Squares   & \\textbf{  F-statistic:       } &     313.1   \\\\\n",
       "\\textbf{Date:}             & Wed, 11 Sep 2024 & \\textbf{  Prob (F-statistic):} & 6.09e-198   \\\\\n",
       "\\textbf{Time:}             &     10:55:28     & \\textbf{  Log-Likelihood:    } &   -5641.8   \\\\\n",
       "\\textbf{No. Observations:} &         736      & \\textbf{  AIC:               } & 1.130e+04   \\\\\n",
       "\\textbf{Df Residuals:}     &         729      & \\textbf{  BIC:               } & 1.133e+04   \\\\\n",
       "\\textbf{Df Model:}         &           6      & \\textbf{                     } &             \\\\\n",
       "\\textbf{Covariance Type:}  &    nonrobust     & \\textbf{                     } &             \\\\\n",
       "\\bottomrule\n",
       "\\end{tabular}\n",
       "\\begin{tabular}{lcccccc}\n",
       "                   & \\textbf{coef} & \\textbf{std err} & \\textbf{t} & \\textbf{P$> |$t$|$} & \\textbf{[0.025} & \\textbf{0.975]}  \\\\\n",
       "\\midrule\n",
       "\\textbf{Intercept} &     220.7564  &     6746.175     &     0.033  &         0.974        &     -1.3e+04    &     1.35e+04     \\\\\n",
       "\\textbf{Year}      &      -0.0411  &        3.356     &    -0.012  &         0.990        &       -6.630    &        6.547     \\\\\n",
       "\\textbf{DD}        &       0.4129  &        0.055     &     7.545  &         0.000        &        0.305    &        0.520     \\\\\n",
       "\\textbf{AoW}       &       0.2345  &        0.011     &    20.977  &         0.000        &        0.213    &        0.256     \\\\\n",
       "\\textbf{AoM}       &      -0.0212  &        0.029     &    -0.722  &         0.470        &       -0.079    &        0.036     \\\\\n",
       "\\textbf{DV}        &       0.0566  &        0.006     &     8.752  &         0.000        &        0.044    &        0.069     \\\\\n",
       "\\textbf{WT}        &      -0.3279  &        0.259     &    -1.267  &         0.205        &       -0.836    &        0.180     \\\\\n",
       "\\bottomrule\n",
       "\\end{tabular}\n",
       "\\begin{tabular}{lclc}\n",
       "\\textbf{Omnibus:}       & 241.160 & \\textbf{  Durbin-Watson:     } &    1.905  \\\\\n",
       "\\textbf{Prob(Omnibus):} &   0.000 & \\textbf{  Jarque-Bera (JB):  } & 2281.649  \\\\\n",
       "\\textbf{Skew:}          &   1.190 & \\textbf{  Prob(JB):          } &     0.00  \\\\\n",
       "\\textbf{Kurtosis:}      &  11.291 & \\textbf{  Cond. No.          } & 1.94e+06  \\\\\n",
       "\\bottomrule\n",
       "\\end{tabular}\n",
       "%\\caption{OLS Regression Results}\n",
       "\\end{center}\n",
       "\n",
       "Notes: \\newline\n",
       " [1] Standard Errors assume that the covariance matrix of the errors is correctly specified. \\newline\n",
       " [2] The condition number is large, 1.94e+06. This might indicate that there are \\newline\n",
       " strong multicollinearity or other numerical problems."
      ],
      "text/plain": [
       "<class 'statsmodels.iolib.summary.Summary'>\n",
       "\"\"\"\n",
       "                            OLS Regression Results                            \n",
       "==============================================================================\n",
       "Dep. Variable:                   Rape   R-squared:                       0.720\n",
       "Model:                            OLS   Adj. R-squared:                  0.718\n",
       "Method:                 Least Squares   F-statistic:                     313.1\n",
       "Date:                Wed, 11 Sep 2024   Prob (F-statistic):          6.09e-198\n",
       "Time:                        10:55:28   Log-Likelihood:                -5641.8\n",
       "No. Observations:                 736   AIC:                         1.130e+04\n",
       "Df Residuals:                     729   BIC:                         1.133e+04\n",
       "Df Model:                           6                                         \n",
       "Covariance Type:            nonrobust                                         \n",
       "==============================================================================\n",
       "                 coef    std err          t      P>|t|      [0.025      0.975]\n",
       "------------------------------------------------------------------------------\n",
       "Intercept    220.7564   6746.175      0.033      0.974    -1.3e+04    1.35e+04\n",
       "Year          -0.0411      3.356     -0.012      0.990      -6.630       6.547\n",
       "DD             0.4129      0.055      7.545      0.000       0.305       0.520\n",
       "AoW            0.2345      0.011     20.977      0.000       0.213       0.256\n",
       "AoM           -0.0212      0.029     -0.722      0.470      -0.079       0.036\n",
       "DV             0.0566      0.006      8.752      0.000       0.044       0.069\n",
       "WT            -0.3279      0.259     -1.267      0.205      -0.836       0.180\n",
       "==============================================================================\n",
       "Omnibus:                      241.160   Durbin-Watson:                   1.905\n",
       "Prob(Omnibus):                  0.000   Jarque-Bera (JB):             2281.649\n",
       "Skew:                           1.190   Prob(JB):                         0.00\n",
       "Kurtosis:                      11.291   Cond. No.                     1.94e+06\n",
       "==============================================================================\n",
       "\n",
       "Notes:\n",
       "[1] Standard Errors assume that the covariance matrix of the errors is correctly specified.\n",
       "[2] The condition number is large, 1.94e+06. This might indicate that there are\n",
       "strong multicollinearity or other numerical problems.\n",
       "\"\"\""
      ]
     },
     "execution_count": 140,
     "metadata": {},
     "output_type": "execute_result"
    }
   ],
   "source": [
    "model.summary()"
   ]
  },
  {
   "cell_type": "code",
   "execution_count": 145,
   "id": "5c382694-d093-4da3-8542-9a8968fb84cb",
   "metadata": {},
   "outputs": [
    {
     "name": "stdout",
     "output_type": "stream",
     "text": [
      "Root Mean Squared Error:379.9957377632195\n",
      "R2 score;0.7197840146073522\n"
     ]
    }
   ],
   "source": [
    "print(f\"Root Mean Squared Error:{rmse}\")\n",
    "print(f\"R2 score;{r2}\")"
   ]
  },
  {
   "cell_type": "code",
   "execution_count": 147,
   "id": "6cdfce94-7e63-4191-9847-a541c807db9b",
   "metadata": {},
   "outputs": [
    {
     "data": {
      "image/png": "[encoded data removed]",
      "text/plain": [
       "<Figure size 640x480 with 1 Axes>"
      ]
     },
     "metadata": {},
     "output_type": "display_data"
    }
   ],
   "source": [
    "plt.scatter(y_test, y_pred)\n",
    "plt.xlabel(\"Actual Rape Cases\")\n",
    "plt.ylabel(\"Predicted Rape Cases\")\n",
    "plt.title(\"Actual vs Predicted Rape Cases\")\n",
    "plt.show()"
   ]
  },
  {
   "cell_type": "code",
   "execution_count": null,
   "id": "7d669e19-c5dc-4ce9-be43-eb4791f08abd",
   "metadata": {},
   "outputs": [],
   "source": []
  },
  {
   "cell_type": "code",
   "execution_count": null,
   "id": "fde4e9a7-8c1c-4c29-aad1-1765f8b591ab",
   "metadata": {},
   "outputs": [],
   "source": []
  },
  {
   "cell_type": "code",
   "execution_count": null,
   "id": "31483901-fa25-47f0-a372-8a49ab49adf3",
   "metadata": {},
   "outputs": [],
   "source": []
  }
 ],
 "metadata": {
  "kernelspec": {
   "display_name": "Python 3 (ipykernel)",
   "language": "python",
   "name": "python3"
  },
  "language_info": {
   "codemirror_mode": {
    "name": "ipython",
    "version": 3
   },
   "file_extension": ".py",
   "mimetype": "text/x-python",
   "name": "python",
   "nbconvert_exporter": "python",
   "pygments_lexer": "ipython3",
   "version": "3.12.4"
  }
 },
 "nbformat": 4,
 "nbformat_minor": 5
}
